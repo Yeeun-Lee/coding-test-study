{
 "cells": [
  {
   "cell_type": "markdown",
   "id": "naughty-bandwidth",
   "metadata": {},
   "source": [
    "## Regular Expression(Regex, re)"
   ]
  },
  {
   "cell_type": "code",
   "execution_count": 2,
   "id": "standing-forum",
   "metadata": {},
   "outputs": [],
   "source": [
    "import re"
   ]
  },
  {
   "cell_type": "markdown",
   "id": "registered-toilet",
   "metadata": {},
   "source": [
    "#### +) 메타 문자(meta-characters)\n",
    "- 문자가 본래의 의미와 다른 기능을 함.\n",
    "\n",
    "---\n",
    "- [] : 문자들의 범위를 나타내기 위해 사용\n",
    "    > - [abc] : a or b or c or k\n",
    "    > - [^0-9] : ^가 맨 앞에 사용되는 경우 해당 문자 패턴이 아닌 것과 매칭\n",
    "- .(마침표) : 모든 문자를 의미\n",
    "- \\ : 다른 문자와 함께 사용되어 특수한 의미로 사용됨.\n",
    "    >- \\d : [0-9]\n",
    "    >- \\D : 숫자가 아닌 문자[^0-9]\n",
    "    >- \\s : 공백문자(띄어쓰기, 탭, 엔터 등)\n",
    "    >- \\S : 공백이 아닌 문자\n",
    "    >- \\w : 알파벳 대소문자, 숫자, [0-9a-zA-Z]\n",
    "    >- \\W : non-alpha-numeric\n",
    "    >- \\t, \\n, \\r : tab, newline, return\n",
    "    >-\\\\{메타문자} : 메타 문자 그대로를 나타내게 하고 싶을 때."
   ]
  },
  {
   "cell_type": "code",
   "execution_count": 4,
   "id": "exterior-cornwall",
   "metadata": {},
   "outputs": [
    {
     "data": {
      "text/plain": [
       "<re.Match object; span=(2, 6), match='$%AB'>"
      ]
     },
     "execution_count": 4,
     "metadata": {},
     "output_type": "execute_result"
    }
   ],
   "source": [
    "sample = '@#$%ABCDabcd'\n",
    "re.search(r'..\\w\\w', sample)"
   ]
  },
  {
   "cell_type": "markdown",
   "id": "devoted-dictionary",
   "metadata": {},
   "source": [
    "#### +) 반복패턴\n",
    "패턴 뒤에 위치하는 *, +, ?는 해당 패턴이 반복적으로 존재하는지 검사한다.\n",
    "- '+' : 1번 이상의 패턴 발생\n",
    "- '*' : 0번 이상의 패턴 발생\n",
    "- '?' : 0혹은 1번\n",
    "- {m, n} : 반복 횟수 설정(m이상 n이하}\n",
    "\n",
    "> 반복을 greedy 하게 검색한다 - 즉, 가능한 많은 부분이 매칭되도록 한다\n",
    "\n",
    "#### +) 문자열의 시작과 끝\n",
    "- ^ : 문자열의 맨 앞부터 일치하는 경우 검색\n",
    "- $ : 문자열의 맨 뒤부터 일치하는 경우 검색"
   ]
  },
  {
   "cell_type": "code",
   "execution_count": 5,
   "id": "loose-iraqi",
   "metadata": {},
   "outputs": [
    {
     "data": {
      "text/plain": [
       "<re.Match object; span=(0, 4), match='http'>"
      ]
     },
     "execution_count": 5,
     "metadata": {},
     "output_type": "execute_result"
    }
   ],
   "source": [
    "re.search(r'https?', 'http://www.naver.com') # https와 매치되지 않으나, 0혹은 1이므로 매치"
   ]
  },
  {
   "cell_type": "code",
   "execution_count": 6,
   "id": "secure-static",
   "metadata": {},
   "outputs": [],
   "source": [
    "re.search(r'https+', 'http://www.naver.com') "
   ]
  },
  {
   "cell_type": "markdown",
   "id": "removed-visiting",
   "metadata": {},
   "source": [
    "#### +) 최소 매칭(non-greedy way)\n",
    "기본적으로 \\*, +, ?을 사용하면 greedy(맥시멈 매칭)하게 동작한다.\\\n",
    "***?, +?**을 이용하여 최소매칭을 구현할 수 있다."
   ]
  },
  {
   "cell_type": "code",
   "execution_count": 8,
   "id": "cathedral-preparation",
   "metadata": {},
   "outputs": [
    {
     "data": {
      "text/plain": [
       "<re.Match object; span=(0, 17), match='<html>haha</html>'>"
      ]
     },
     "execution_count": 8,
     "metadata": {},
     "output_type": "execute_result"
    }
   ],
   "source": [
    "re.search(r'<.+>','<html>haha</html>')"
   ]
  },
  {
   "cell_type": "code",
   "execution_count": 9,
   "id": "offshore-touch",
   "metadata": {},
   "outputs": [
    {
     "data": {
      "text/plain": [
       "<re.Match object; span=(0, 6), match='<html>'>"
      ]
     },
     "execution_count": 9,
     "metadata": {},
     "output_type": "execute_result"
    }
   ],
   "source": [
    "re.search(r'<.+?>','<html>haha</html>')"
   ]
  },
  {
   "cell_type": "code",
   "execution_count": 11,
   "id": "arbitrary-perception",
   "metadata": {},
   "outputs": [
    {
     "data": {
      "text/plain": [
       "<re.Match object; span=(0, 3), match='aaa'>"
      ]
     },
     "execution_count": 11,
     "metadata": {},
     "output_type": "execute_result"
    }
   ],
   "source": [
    "re.search(r'a{3,5}?', 'aaaaa') # 최소 m번 매칭하면 만족"
   ]
  },
  {
   "cell_type": "markdown",
   "id": "bound-gossip",
   "metadata": {},
   "source": [
    "### Grouping\n",
    "(   )을 사용하여 grouping. 매칭 경과를 각 그룹별로 분리할 수 있다.\n",
    "> 패턴 생성 시, 각 그룹을 괄호 안에 넣어 분리하여 사용한다."
   ]
  },
  {
   "cell_type": "code",
   "execution_count": 7,
   "id": "lightweight-trigger",
   "metadata": {},
   "outputs": [
    {
     "name": "stdout",
     "output_type": "stream",
     "text": [
      "<re.Match object; span=(0, 14), match='test@gmail.com'>\n",
      "test\n",
      "gmail.com\n",
      "test@gmail.com\n"
     ]
    }
   ],
   "source": [
    "m = re.search(r'(\\w+)@(.+)','test@gmail.com')\n",
    "print(m)\n",
    "print(m.group(1))\n",
    "print(m.group(2))\n",
    "print(m.group(0))"
   ]
  },
  {
   "cell_type": "markdown",
   "id": "different-polls",
   "metadata": {},
   "source": [
    "### re.search(pat, string)\n",
    "- 문자열 내에서 패턴을 찾으면 match 객체를 반환\n",
    "- 찾지 못하면 None 반환"
   ]
  },
  {
   "cell_type": "code",
   "execution_count": 3,
   "id": "integral-henry",
   "metadata": {},
   "outputs": [
    {
     "data": {
      "text/plain": [
       "<re.Match object; span=(3, 6), match='abd'>"
      ]
     },
     "execution_count": 3,
     "metadata": {},
     "output_type": "execute_result"
    }
   ],
   "source": [
    "re.search(r'abd', '123abdef')"
   ]
  },
  {
   "cell_type": "markdown",
   "id": "stuck-indie",
   "metadata": {},
   "source": [
    "### re.match(pat, string)\n",
    "- search와 유사하나, 주어진 문자열의 **시작부터 비교**하여 패턴이 있는지 확인한다.\n",
    "- 찾지 못하면 None 반환"
   ]
  },
  {
   "cell_type": "code",
   "execution_count": 12,
   "id": "dimensional-ghost",
   "metadata": {},
   "outputs": [],
   "source": [
    "re.match(r'\\d\\d\\d', 'my number is 123')"
   ]
  },
  {
   "cell_type": "code",
   "execution_count": 13,
   "id": "supposed-detroit",
   "metadata": {},
   "outputs": [
    {
     "data": {
      "text/plain": [
       "<re.Match object; span=(0, 3), match='123'>"
      ]
     },
     "execution_count": 13,
     "metadata": {},
     "output_type": "execute_result"
    }
   ],
   "source": [
    "re.match(r'\\d\\d\\d', '123 is my number')"
   ]
  },
  {
   "cell_type": "markdown",
   "id": "statutory-relations",
   "metadata": {},
   "source": [
    "### re.findall(pat, string)\n",
    "search가 최초로 매칭되는 패턴만 반환한다면, findall은 매칭되는 전체의 패턴을 반환한다.\n",
    "- 매칭되는 모든 결과를 **리스트**형태로 반환"
   ]
  },
  {
   "cell_type": "code",
   "execution_count": 14,
   "id": "express-friendly",
   "metadata": {},
   "outputs": [
    {
     "data": {
      "text/plain": [
       "['test@gmail.com', 'test2@gmail.com']"
      ]
     },
     "execution_count": 14,
     "metadata": {},
     "output_type": "execute_result"
    }
   ],
   "source": [
    "re.findall(r'[\\w-]+@[\\w.]+', 'test@gmail.com haha test2@gmail.com nice test test')"
   ]
  },
  {
   "cell_type": "markdown",
   "id": "binding-produce",
   "metadata": {},
   "source": [
    "### re.sub(pat, sub-string, string, count = 0)\n",
    "- count가 0인 경우 전체 치환(default), 1이상이면 해당 숫자만큼 치환"
   ]
  },
  {
   "cell_type": "code",
   "execution_count": 15,
   "id": "hawaiian-negotiation",
   "metadata": {},
   "outputs": [
    {
     "data": {
      "text/plain": [
       "'great haha test2@gmail.com nice test test'"
      ]
     },
     "execution_count": 15,
     "metadata": {},
     "output_type": "execute_result"
    }
   ],
   "source": [
    "re.sub(r'[\\w-]+@[\\w.]+', 'great', 'test@gmail.com haha test2@gmail.com nice test test', count=1)"
   ]
  },
  {
   "cell_type": "code",
   "execution_count": 16,
   "id": "classified-fighter",
   "metadata": {},
   "outputs": [
    {
     "data": {
      "text/plain": [
       "'great haha great nice test test'"
      ]
     },
     "execution_count": 16,
     "metadata": {},
     "output_type": "execute_result"
    }
   ],
   "source": [
    "re.sub(r'[\\w-]+@[\\w.]+', 'great', 'test@gmail.com haha test2@gmail.com nice test test')"
   ]
  },
  {
   "cell_type": "markdown",
   "id": "compact-outreach",
   "metadata": {},
   "source": [
    "### 예제(2019 KAKAO BLIND RECRUITMENT-매칭점수)\n",
    "[문제링크](https://programmers.co.kr/learn/courses/30/lessons/42893)\n",
    "\n",
    "```html\n",
    "<html lang=\\\"ko\\\" xml:lang=\\\"ko\\\" xmlns=\\\"http://www.w3.org/1999/xhtml\\\">\n",
    "    <head>\\n  <meta charset=\\\"utf-8\\\">\n",
    "        <meta property=\\\"og:url\\\" content=\\\"https://a.com\\\"/> <--페이지url-->\n",
    "    </head>  \n",
    "    <body>\n",
    "        Blind Lorem Blind ipsum dolor Blind test sit amet, consectetur adipiscing elit. \n",
    "        <a href=\\\"https://b.com\\\"> Link to b </a> <--외부링크-->\n",
    "    </body>\n",
    "</html>\n",
    "```"
   ]
  },
  {
   "cell_type": "code",
   "execution_count": 17,
   "id": "sublime-bahamas",
   "metadata": {},
   "outputs": [],
   "source": [
    "sample = [\"<html lang=\\\"ko\\\" xml:lang=\\\"ko\\\" xmlns=\\\"http://www.w3.org/1999/xhtml\\\">\\n<head>\\n  <meta charset=\\\"utf-8\\\">\\n  <meta property=\\\"og:url\\\" content=\\\"https://a.com\\\"/>\\n</head>  \\n<body>\\nBlind Lorem Blind ipsum dolor Blind test sit amet, consectetur adipiscing elit. \\n<a href=\\\"https://b.com\\\"> Link to b </a>\\n</body>\\n</html>\",\n",
    "          \"<html lang=\\\"ko\\\" xml:lang=\\\"ko\\\" xmlns=\\\"http://www.w3.org/1999/xhtml\\\">\\n<head>\\n  <meta charset=\\\"utf-8\\\">\\n  <meta property=\\\"og:url\\\" content=\\\"https://b.com\\\"/>\\n</head>  \\n<body>\\nSuspendisse potenti. Vivamus venenatis tellus non turpis bibendum, \\n<a href=\\\"https://a.com\\\"> Link to a </a>\\nblind sed congue urna varius. Suspendisse feugiat nisl ligula, quis malesuada felis hendrerit ut.\\n<a href=\\\"https://c.com\\\"> Link to c </a>\\n</body>\\n</html>\",\n",
    "          \"<html lang=\\\"ko\\\" xml:lang=\\\"ko\\\" xmlns=\\\"http://www.w3.org/1999/xhtml\\\">\\n<head>\\n  <meta charset=\\\"utf-8\\\">\\n  <meta property=\\\"og:url\\\" content=\\\"https://c.com\\\"/>\\n</head>  \\n<body>\\nUt condimentum urna at felis sodales rutrum. Sed dapibus cursus diam, non interdum nulla tempor nec. Phasellus rutrum enim at orci consectetu blind\\n<a href=\\\"https://a.com\\\"> Link to a </a>\\n</body>\\n</html>\"]"
   ]
  },
  {
   "cell_type": "code",
   "execution_count": 24,
   "id": "damaged-philippines",
   "metadata": {},
   "outputs": [
    {
     "name": "stdout",
     "output_type": "stream",
     "text": [
      "<html lang=\"ko\" xml:lang=\"ko\" xmlns=\"http://www.w3.org/1999/xhtml\">\n",
      "<head>\n",
      "  <meta charset=\"utf-8\">\n",
      "  <meta property=\"og:url\" content=\"https://a.com\"/>\n",
      "</head>  \n",
      "<body>\n",
      "Blind Lorem Blind ipsum dolor Blind test sit amet, consectetur adipiscing elit. \n",
      "<a href=\"https://b.com\"> Link to b </a>\n",
      "</body>\n",
      "</html>\n"
     ]
    }
   ],
   "source": [
    "print(sample[0])"
   ]
  },
  {
   "cell_type": "code",
   "execution_count": 22,
   "id": "quarterly-hypothetical",
   "metadata": {},
   "outputs": [
    {
     "name": "stdout",
     "output_type": "stream",
     "text": [
      "https://a.com\n"
     ]
    }
   ],
   "source": [
    "# 페이지 링크 추출하기\n",
    "pattern = '<meta\\s.+?content=\\\"(https://.+)\\\"/>'\n",
    "print(re.search(pattern, sample[0]).group(1))"
   ]
  },
  {
   "cell_type": "code",
   "execution_count": 29,
   "id": "flexible-bosnia",
   "metadata": {},
   "outputs": [
    {
     "name": "stdout",
     "output_type": "stream",
     "text": [
      "['https://a.com', 'https://c.com']\n"
     ]
    }
   ],
   "source": [
    "# 외부링크 추출하기\n",
    "pattern1 = '<a href=\\\"(https://.+)\\\">'\n",
    "print(re.findall(pattern1, sample[1]))"
   ]
  },
  {
   "cell_type": "code",
   "execution_count": 33,
   "id": "freelance-large",
   "metadata": {},
   "outputs": [
    {
     "name": "stdout",
     "output_type": "stream",
     "text": [
      "\n",
      "Blind Lorem Blind ipsum dolor Blind test sit amet, consectetur adipiscing elit. \n",
      "<a href=\"https://b.com\"> Link to b </a>\n",
      "\n"
     ]
    }
   ],
   "source": [
    "# body 본문 추출하기\n",
    "body = '<body>((.|\\s)+)</body>'\n",
    "print(re.search(body, sample[0]).group(1))"
   ]
  },
  {
   "cell_type": "code",
   "execution_count": 35,
   "id": "reliable-suffering",
   "metadata": {},
   "outputs": [
    {
     "name": "stdout",
     "output_type": "stream",
     "text": [
      "3\n"
     ]
    }
   ],
   "source": [
    "# 문제에서 나온대로 blind counting하기\n",
    "count = 0\n",
    "temp = ''\n",
    "for char in re.search(body, sample[0]).group(1).lower():\n",
    "    if char.isalpha():\n",
    "        temp+=char\n",
    "        if temp == 'blind':\n",
    "            count+=1\n",
    "    else:\n",
    "        temp = ''\n",
    "print(count)"
   ]
  },
  {
   "cell_type": "code",
   "execution_count": null,
   "id": "exact-found",
   "metadata": {},
   "outputs": [],
   "source": []
  }
 ],
 "metadata": {
  "kernelspec": {
   "display_name": "tf2",
   "language": "python",
   "name": "tensorflow"
  },
  "language_info": {
   "codemirror_mode": {
    "name": "ipython",
    "version": 3
   },
   "file_extension": ".py",
   "mimetype": "text/x-python",
   "name": "python",
   "nbconvert_exporter": "python",
   "pygments_lexer": "ipython3",
   "version": "3.8.8"
  }
 },
 "nbformat": 4,
 "nbformat_minor": 5
}
